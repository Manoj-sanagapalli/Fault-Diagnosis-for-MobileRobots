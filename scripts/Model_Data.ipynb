{
 "cells": [
  {
   "cell_type": "markdown",
   "metadata": {},
   "source": [
    "## Combining use cases"
   ]
  },
  {
   "cell_type": "code",
   "execution_count": 1,
   "metadata": {},
   "outputs": [],
   "source": [
    "import numpy as np\n",
    "import pandas as pd\n",
    "import glob\n",
    "flag = True"
   ]
  },
  {
   "cell_type": "code",
   "execution_count": 2,
   "metadata": {},
   "outputs": [],
   "source": [
    "'''\n",
    "file1=pd.read_excel('/home/roscon/Desktop/Data_new/Class0-NoObstacle/Trail4/0_4.xlsx')\n",
    "file2=pd.read_excel('/home/roscon/Desktop/Data_new/Class1-RigidObstacle/Trail4/1_4.xlsx')\n",
    "file3=pd.read_excel('/home/roscon/Desktop/Data_new/Class2-MovableObstacle/Trail4/2_4.xlsx')\n",
    "file4=pd.read_excel('/home/roscon/Desktop/Data_new/Class3-RWStuck/Trail4/3_4.xlsx')\n",
    "file5=pd.read_excel('/home/roscon/Desktop/Data_new/Class4-LWStuck/Trail4/4_4.xlsx')\n",
    "file6=pd.read_excel('/home/roscon/Desktop/Data_new/Class5-SlipObstacle/Trail4/5_4.xlsx')\n",
    "file7=pd.read_excel('/home/roscon/Desktop/Data_new/Class6-Scratch/Trail4/6_4.xlsx')\n",
    "file8=pd.read_excel('/home/roscon/Desktop/Data_new/Class7-Wedge/Trail4/7_4.xlsx')                    \n",
    "file9=pd.read_excel('/home/roscon/Desktop/Data_new/Class8-Pithole/Trail4/8_4.xlsx')    \n",
    "'''                \n",
    "file1=pd.read_excel('/home/roscon/Desktop/Data_latest/Model/Trail3/0_clean.xlsx')\n",
    "file2=pd.read_excel('/home/roscon/Desktop/Data_latest/Model/Trail3/1_clean.xlsx')\n",
    "file3=pd.read_excel('/home/roscon/Desktop/Data_latest/Model/Trail3/2_clean.xlsx')\n",
    "file4=pd.read_excel('/home/roscon/Desktop/Data_latest/Model/Trail3/3_clean.xlsx')\n",
    "file5=pd.read_excel('/home/roscon/Desktop/Data_latest/Model/Trail3/4_clean.xlsx')\n",
    "file6=pd.read_excel('/home/roscon/Desktop/Data_latest/Model/Trail3/5_clean.xlsx')\n",
    "file7=pd.read_excel('/home/roscon/Desktop/Data_latest/Model/Trail3/6_clean.xlsx')\n",
    "file8=pd.read_excel('/home/roscon/Desktop/Data_latest/Model/Trail3/7_clean.xlsx')\n",
    "file9=pd.read_excel('/home/roscon/Desktop/Data_latest/Model/Trail3/8_clean.xlsx')"
   ]
  },
  {
   "cell_type": "code",
   "execution_count": null,
   "metadata": {},
   "outputs": [],
   "source": [
    "file1=pd.read_excel('/home/roscon/Desktop/Data_latest/Model/Trail1/0.xlsx')\n",
    "file2=pd.read_excel('/home/roscon/Desktop/Data_latest/Model/Trail1/1.xlsx')\n",
    "file1.set_index(\"date\",inplace=True)\n",
    "file2.set_index(\"date\",inplace=True)\n",
    "frames = [file1,file2]\n",
    "result = pd.concat(frames,sort=False)\n",
    "result.to_excel(\"/home/roscon/Desktop/Data_latest/Model/01_3.xlsx\")"
   ]
  },
  {
   "cell_type": "code",
   "execution_count": 3,
   "metadata": {},
   "outputs": [],
   "source": [
    "file1.set_index(\"date\",inplace=True)\n",
    "file2.set_index(\"date\",inplace=True)\n",
    "file3.set_index(\"date\",inplace=True)\n",
    "file4.set_index(\"date\",inplace=True)\n",
    "file5.set_index(\"date\",inplace=True)\n",
    "file6.set_index(\"date\",inplace=True)\n",
    "file7.set_index(\"date\",inplace=True)\n",
    "file8.set_index(\"date\",inplace=True)\n",
    "file9.set_index(\"date\",inplace=True)"
   ]
  },
  {
   "cell_type": "code",
   "execution_count": 4,
   "metadata": {},
   "outputs": [],
   "source": [
    "frames = [file1,file2,file3,file4,file5,file6,file7,file8,file9]\n",
    "result = pd.concat(frames,sort=False)"
   ]
  },
  {
   "cell_type": "code",
   "execution_count": null,
   "metadata": {
    "scrolled": true
   },
   "outputs": [],
   "source": [
    "result"
   ]
  },
  {
   "cell_type": "code",
   "execution_count": 5,
   "metadata": {},
   "outputs": [],
   "source": [
    "result.to_excel(\"/home/roscon/Desktop/Data_latest/Model/resampled/Trail3_clean.xlsx\")"
   ]
  },
  {
   "cell_type": "code",
   "execution_count": null,
   "metadata": {},
   "outputs": [],
   "source": [
    "file11=pd.read_excel('/home/roscon/Desktop/Data_new/Class0-NoObstacle/Trail1/0_1.xlsx')\n",
    "file22=pd.read_excel('/home/roscon/Desktop/Data_new/Class0-NoObstacle/Trail2/0_2.xlsx')\n",
    "file33=pd.read_excel('/home/roscon/Desktop/Data_new/Class0-NoObstacle/Trail3/0_3.xlsx')\n",
    "file44=pd.read_excel('/home/roscon/Desktop/Data_new/Class0-NoObstacle/Trail4/0_4.xlsx')\n",
    "frames0 = [file11,file22,file33,file44]\n",
    "result0 = pd.concat(frames0,sort=False)"
   ]
  },
  {
   "cell_type": "code",
   "execution_count": null,
   "metadata": {},
   "outputs": [],
   "source": [
    "file11=pd.read_excel('/home/roscon/Desktop/Data_new/Class1-RigidObstacle/Trail1/1_1.xlsx')\n",
    "file22=pd.read_excel('/home/roscon/Desktop/Data_new/Class1-RigidObstacle/Trail2/1_2.xlsx')\n",
    "file33=pd.read_excel('/home/roscon/Desktop/Data_new/Class1-RigidObstacle/Trail3/1_3.xlsx')\n",
    "file44=pd.read_excel('/home/roscon/Desktop/Data_new/Class1-RigidObstacle/Trail4/1_4.xlsx')\n",
    "frames1 = [file11,file22,file33,file44]\n",
    "result1 = pd.concat(frames1,sort=False)"
   ]
  },
  {
   "cell_type": "code",
   "execution_count": null,
   "metadata": {},
   "outputs": [],
   "source": [
    "file11=pd.read_excel('/home/roscon/Desktop/Data_new/Class2-MovableObstacle/Trail1/2_1.xlsx')\n",
    "file22=pd.read_excel('/home/roscon/Desktop/Data_new/Class2-MovableObstacle/Trail2/2_2.xlsx')\n",
    "file33=pd.read_excel('/home/roscon/Desktop/Data_new/Class2-MovableObstacle/Trail3/2_3.xlsx')\n",
    "file44=pd.read_excel('/home/roscon/Desktop/Data_new/Class2-MovableObstacle/Trail4/2_4.xlsx')\n",
    "frames2 = [file11,file22,file33,file44]\n",
    "result2 = pd.concat(frames2,sort=False)"
   ]
  },
  {
   "cell_type": "code",
   "execution_count": null,
   "metadata": {},
   "outputs": [],
   "source": [
    "file11=pd.read_excel('/home/roscon/Desktop/Data_new/Class3-RWStuck/Trail1/3_1.xlsx')\n",
    "file22=pd.read_excel('/home/roscon/Desktop/Data_new/Class3-RWStuck/Trail2/3_2.xlsx')\n",
    "file33=pd.read_excel('/home/roscon/Desktop/Data_new/Class3-RWStuck/Trail3/3_3.xlsx')\n",
    "file44=pd.read_excel('/home/roscon/Desktop/Data_new/Class3-RWStuck/Trail4/3_4.xlsx')\n",
    "frames3 = [file11,file22,file33,file44]\n",
    "result3 = pd.concat(frames3,sort=False)"
   ]
  },
  {
   "cell_type": "code",
   "execution_count": null,
   "metadata": {},
   "outputs": [],
   "source": [
    "file11=pd.read_excel('/home/roscon/Desktop/Data_new/Class4-LWStuck/Trail1/4_1.xlsx')\n",
    "file22=pd.read_excel('/home/roscon/Desktop/Data_new/Class4-LWStuck/Trail2/4_2.xlsx')\n",
    "file33=pd.read_excel('/home/roscon/Desktop/Data_new/Class4-LWStuck/Trail3/4_3.xlsx')\n",
    "file44=pd.read_excel('/home/roscon/Desktop/Data_new/Class4-LWStuck/Trail4/4_4.xlsx')\n",
    "frames4 = [file11,file22,file33,file44]\n",
    "result4 = pd.concat(frames4,sort=False)"
   ]
  },
  {
   "cell_type": "code",
   "execution_count": null,
   "metadata": {},
   "outputs": [],
   "source": [
    "file11=pd.read_excel('/home/roscon/Desktop/Data_new/Class5-SlipObstacle/Trail1/5_1.xlsx')\n",
    "file22=pd.read_excel('/home/roscon/Desktop/Data_new/Class5-SlipObstacle/Trail2/5_2.xlsx')\n",
    "file33=pd.read_excel('/home/roscon/Desktop/Data_new/Class5-SlipObstacle/Trail3/5_3.xlsx')\n",
    "file44=pd.read_excel('/home/roscon/Desktop/Data_new/Class5-SlipObstacle/Trail4/5_4.xlsx')\n",
    "frames5 = [file11,file22,file33,file44]\n",
    "result5 = pd.concat(frames5,sort=False)"
   ]
  },
  {
   "cell_type": "code",
   "execution_count": null,
   "metadata": {},
   "outputs": [],
   "source": [
    "file11=pd.read_excel('/home/roscon/Desktop/Data_new/Class6-Scratch/Trail1/6_1.xlsx')\n",
    "file22=pd.read_excel('/home/roscon/Desktop/Data_new/Class6-Scratch/Trail2/6_2.xlsx')\n",
    "file33=pd.read_excel('/home/roscon/Desktop/Data_new/Class6-Scratch/Trail3/6_3.xlsx')\n",
    "file44=pd.read_excel('/home/roscon/Desktop/Data_new/Class6-Scratch/Trail4/6_4.xlsx')\n",
    "frames6 = [file11,file22,file33,file44]\n",
    "result6 = pd.concat(frames6,sort=False)"
   ]
  },
  {
   "cell_type": "code",
   "execution_count": null,
   "metadata": {},
   "outputs": [],
   "source": [
    "file11=pd.read_excel('/home/roscon/Desktop/Data_new/Class7-Wedge/Trail1/7_1.xlsx')\n",
    "file22=pd.read_excel('/home/roscon/Desktop/Data_new/Class7-Wedge/Trail2/7_2.xlsx')\n",
    "file33=pd.read_excel('/home/roscon/Desktop/Data_new/Class7-Wedge/Trail3/7_3.xlsx')\n",
    "file44=pd.read_excel('/home/roscon/Desktop/Data_new/Class7-Wedge/Trail4/7_4.xlsx')\n",
    "frames7 = [file11,file22,file33,file44]\n",
    "result7 = pd.concat(frames7,sort=False)"
   ]
  },
  {
   "cell_type": "code",
   "execution_count": null,
   "metadata": {},
   "outputs": [],
   "source": [
    "file11=pd.read_excel('/home/roscon/Desktop/Data_new/Class8-Pithole/Trail1/8_1.xlsx')\n",
    "file22=pd.read_excel('/home/roscon/Desktop/Data_new/Class8-Pithole/Trail2/8_2.xlsx')\n",
    "file33=pd.read_excel('/home/roscon/Desktop/Data_new/Class8-Pithole/Trail3/8_3.xlsx')\n",
    "file44=pd.read_excel('/home/roscon/Desktop/Data_new/Class8-Pithole/Trail4/8_4.xlsx')\n",
    "frames8 = [file11,file22,file33,file44]\n",
    "result8 = pd.concat(frames8,sort=False)"
   ]
  },
  {
   "cell_type": "code",
   "execution_count": null,
   "metadata": {},
   "outputs": [],
   "source": [
    "finL = [result0,result1,result2,result3,result4,result5,result6,result7,result8]"
   ]
  },
  {
   "cell_type": "code",
   "execution_count": null,
   "metadata": {},
   "outputs": [],
   "source": [
    "c = pd.concat(finL,sort=False)"
   ]
  },
  {
   "cell_type": "code",
   "execution_count": null,
   "metadata": {},
   "outputs": [],
   "source": [
    "c.to_excel(\"/home/roscon/Desktop/Data_new/Model/Model_comb1.xlsx\")"
   ]
  }
 ],
 "metadata": {
  "kernelspec": {
   "display_name": "Python 3",
   "language": "python",
   "name": "python3"
  },
  "language_info": {
   "codemirror_mode": {
    "name": "ipython",
    "version": 3
   },
   "file_extension": ".py",
   "mimetype": "text/x-python",
   "name": "python",
   "nbconvert_exporter": "python",
   "pygments_lexer": "ipython3",
   "version": "3.7.4"
  }
 },
 "nbformat": 4,
 "nbformat_minor": 2
}
