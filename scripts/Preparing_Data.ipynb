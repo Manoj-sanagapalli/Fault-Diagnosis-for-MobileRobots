{
 "cells": [
  {
   "cell_type": "markdown",
   "metadata": {},
   "source": [
    "## change label, source directory and destination directory"
   ]
  },
  {
   "cell_type": "code",
   "execution_count": 1,
   "metadata": {},
   "outputs": [],
   "source": [
    "import pandas as pd\n",
    "from matplotlib import pyplot as plt\n",
    "from sklearn.utils import resample\n",
    "import datetime as dt\n",
    "#%matplotlib notebook\n",
    "\n",
    "'''\n",
    "Defining manual label\n",
    "0 - no obstacle\n",
    "1 - rigid obstacle\n",
    "2 - movable obstacle\n",
    "3 - right wheel struck\n",
    "4 - left wheel struck\n",
    "5 - slip\n",
    "6 - scratch\n",
    "7 - wedge\n",
    "8 - pithole\n",
    "'''\n",
    "\n",
    "Label = 2\n",
    "file = '/home/roscon/Desktop/Data_latest/Class2-MovableObstacle/Trail1/Trail1.xls'\n",
    "writer ='/home/roscon/Desktop/Data_latest/report_model/Trail1/2.xlsx'"
   ]
  },
  {
   "cell_type": "code",
   "execution_count": null,
   "metadata": {},
   "outputs": [],
   "source": []
  },
  {
   "cell_type": "markdown",
   "metadata": {},
   "source": [
    "## Defining a funtion to resample the data"
   ]
  },
  {
   "cell_type": "code",
   "execution_count": 2,
   "metadata": {},
   "outputs": [],
   "source": [
    "def resample(dataframe):\n",
    "    dataframe[\"Time Nsec\"] = dataframe[\"Time Nsec\"]/1000000000\n",
    "    dataframe[\"Time sec\"] = dataframe[\"Time sec\"] + dataframe[\"Time Nsec\"]\n",
    "    dataframe[\"date\"]= pd.to_datetime(dataframe[\"Time sec\"],unit='s')\n",
    "    dataframe.set_index(\"date\",inplace=True)\n",
    "    dataframe = dataframe[~dataframe.index.duplicated()]\n",
    "    new_df = dataframe\n",
    "    return new_df"
   ]
  },
  {
   "cell_type": "markdown",
   "metadata": {},
   "source": [
    "### Getting the raw data from Bag file"
   ]
  },
  {
   "cell_type": "code",
   "execution_count": 3,
   "metadata": {},
   "outputs": [],
   "source": [
    "# If data needs pre processing\n",
    "\n",
    "#cmd_vel=pd.read_excel('/home/roscon/Desktop/Data/Class1-NoObstacle/Trail5/output_vel.xls',error_bad_lines=False) #command velocity load\n",
    "#actual_vel=pd.read_excel('/home/roscon/Desktop/Data/Class1-NoObstacle/Trail5/output_Avel.xls') #actual velocity load\n",
    "#current=pd.read_excel('/home/roscon/Desktop/Data/Class1-NoObstacle/Trail5/output_current.xls') #current load\n",
    "#IMU=pd.read_excel('/home/roscon/Desktop/Data/Class1-NoObstacle/Trail5/output_IMU.xls') #IMU\n",
    "\n",
    "#with pd.ExcelWriter('/home/roscon/Desktop/Data/Class1-NoObstacle/Trail5/Trail4.xlsx') as writer:  \n",
    " #   cmd_vel.to_excel(writer, sheet_name='cmd_vel')\n",
    "  #  actual_vel.to_excel(writer, sheet_name='actual_vel')\n",
    "   # current.to_excel(writer, sheet_name='current')\n",
    "    #IMU.to_excel(writer, sheet_name='IMU')"
   ]
  },
  {
   "cell_type": "code",
   "execution_count": 4,
   "metadata": {},
   "outputs": [],
   "source": [
    "\n",
    "data= pd.ExcelFile(file)\n",
    "\n",
    "cmd_vel=pd.read_excel(file,sheet_name=0) #command velocity load\n",
    "actual_vel=pd.read_excel(file,sheet_name=1) #actual velocity load\n",
    "current=pd.read_excel(file,sheet_name=2) #current load\n",
    "IMU=pd.read_excel(file,sheet_name=3) #IMU"
   ]
  },
  {
   "cell_type": "code",
   "execution_count": 5,
   "metadata": {},
   "outputs": [],
   "source": [
    "# Storing starting time value\n",
    "\n",
    "Starting_Time = cmd_vel.loc[0,'Time sec']"
   ]
  },
  {
   "cell_type": "code",
   "execution_count": 6,
   "metadata": {},
   "outputs": [],
   "source": [
    "# Converting time as a series that starts with 0.\n",
    "\n",
    "cmd_vel[\"Time update\"] = cmd_vel[\"Time sec\"]-Starting_Time\n",
    "actual_vel[\"Time update\"] = actual_vel[\"Time sec\"]-Starting_Time\n",
    "current[\"Time update\"] = current[\"Time sec\"]-Starting_Time\n",
    "IMU[\"Time update\"] = IMU[\"Time sec\"]-Starting_Time\n",
    "\n"
   ]
  },
  {
   "cell_type": "markdown",
   "metadata": {},
   "source": [
    "### Resampling "
   ]
  },
  {
   "cell_type": "code",
   "execution_count": 7,
   "metadata": {},
   "outputs": [],
   "source": [
    "# Resampling all the data and renaming column name\n",
    "\n",
    "resampled_cmd = pd.DataFrame(resample(cmd_vel))\n",
    "resampled_act = pd.DataFrame(resample(actual_vel))\n",
    "resampled_current = pd.DataFrame(resample(current))\n",
    "resampled_IMU = pd.DataFrame(resample(IMU))\n"
   ]
  },
  {
   "cell_type": "code",
   "execution_count": 8,
   "metadata": {},
   "outputs": [],
   "source": [
    "resampled_cmd=resampled_cmd.rename(columns={'linear x':'command_vel'})\n",
    "resampled_act=resampled_act.rename(columns={'linear x':'actual_vel'})\n",
    "resampled_act=resampled_act.rename(columns={'angular z':'angular_vel'})\n",
    "\n"
   ]
  },
  {
   "cell_type": "markdown",
   "metadata": {},
   "source": [
    "### Concatinating the data as per the requirement"
   ]
  },
  {
   "cell_type": "code",
   "execution_count": 9,
   "metadata": {},
   "outputs": [],
   "source": [
    "# Creating new dataframe for concatination\n",
    "\n",
    "new = pd.DataFrame()\n",
    "new = pd.concat([resampled_cmd['command_vel'], resampled_act[['actual_vel','angular_vel']], resampled_current[['Right current', 'Left current','Bumper','Wheeldrop']]],axis=1)\n",
    "\n",
    "# Manual labeling\n",
    "new['Label'] = Label\n",
    "\n",
    "#Dropping null/not assigned values\n",
    "new=new.dropna()\n"
   ]
  },
  {
   "cell_type": "code",
   "execution_count": 10,
   "metadata": {
    "scrolled": true
   },
   "outputs": [
    {
     "data": {
      "text/html": [
       "<div>\n",
       "<style scoped>\n",
       "    .dataframe tbody tr th:only-of-type {\n",
       "        vertical-align: middle;\n",
       "    }\n",
       "\n",
       "    .dataframe tbody tr th {\n",
       "        vertical-align: top;\n",
       "    }\n",
       "\n",
       "    .dataframe thead th {\n",
       "        text-align: right;\n",
       "    }\n",
       "</style>\n",
       "<table border=\"1\" class=\"dataframe\">\n",
       "  <thead>\n",
       "    <tr style=\"text-align: right;\">\n",
       "      <th></th>\n",
       "      <th>command_vel</th>\n",
       "      <th>actual_vel</th>\n",
       "      <th>angular_vel</th>\n",
       "      <th>Right current</th>\n",
       "      <th>Left current</th>\n",
       "      <th>Bumper</th>\n",
       "      <th>Wheeldrop</th>\n",
       "      <th>Label</th>\n",
       "    </tr>\n",
       "    <tr>\n",
       "      <th>date</th>\n",
       "      <th></th>\n",
       "      <th></th>\n",
       "      <th></th>\n",
       "      <th></th>\n",
       "      <th></th>\n",
       "      <th></th>\n",
       "      <th></th>\n",
       "      <th></th>\n",
       "    </tr>\n",
       "  </thead>\n",
       "  <tbody>\n",
       "    <tr>\n",
       "      <td>2020-02-21 13:29:31.368589401</td>\n",
       "      <td>0.15</td>\n",
       "      <td>0.000000</td>\n",
       "      <td>0.000000</td>\n",
       "      <td>0.0</td>\n",
       "      <td>0.0</td>\n",
       "      <td>0.0</td>\n",
       "      <td>0.0</td>\n",
       "      <td>2</td>\n",
       "    </tr>\n",
       "    <tr>\n",
       "      <td>2020-02-21 13:29:31.418601274</td>\n",
       "      <td>0.15</td>\n",
       "      <td>0.000000</td>\n",
       "      <td>0.000000</td>\n",
       "      <td>0.0</td>\n",
       "      <td>0.0</td>\n",
       "      <td>0.0</td>\n",
       "      <td>0.0</td>\n",
       "      <td>2</td>\n",
       "    </tr>\n",
       "    <tr>\n",
       "      <td>2020-02-21 13:29:31.468591928</td>\n",
       "      <td>0.15</td>\n",
       "      <td>0.000000</td>\n",
       "      <td>0.000000</td>\n",
       "      <td>0.0</td>\n",
       "      <td>0.0</td>\n",
       "      <td>0.0</td>\n",
       "      <td>0.0</td>\n",
       "      <td>2</td>\n",
       "    </tr>\n",
       "    <tr>\n",
       "      <td>2020-02-21 13:29:31.518634080</td>\n",
       "      <td>0.15</td>\n",
       "      <td>0.014926</td>\n",
       "      <td>-0.009271</td>\n",
       "      <td>2.0</td>\n",
       "      <td>1.0</td>\n",
       "      <td>0.0</td>\n",
       "      <td>0.0</td>\n",
       "      <td>2</td>\n",
       "    </tr>\n",
       "    <tr>\n",
       "      <td>2020-02-21 13:29:31.568592072</td>\n",
       "      <td>0.15</td>\n",
       "      <td>0.060415</td>\n",
       "      <td>-0.018542</td>\n",
       "      <td>1.0</td>\n",
       "      <td>2.0</td>\n",
       "      <td>0.0</td>\n",
       "      <td>0.0</td>\n",
       "      <td>2</td>\n",
       "    </tr>\n",
       "    <tr>\n",
       "      <td>...</td>\n",
       "      <td>...</td>\n",
       "      <td>...</td>\n",
       "      <td>...</td>\n",
       "      <td>...</td>\n",
       "      <td>...</td>\n",
       "      <td>...</td>\n",
       "      <td>...</td>\n",
       "      <td>...</td>\n",
       "    </tr>\n",
       "    <tr>\n",
       "      <td>2020-02-21 13:29:40.768592119</td>\n",
       "      <td>0.15</td>\n",
       "      <td>0.146418</td>\n",
       "      <td>0.000000</td>\n",
       "      <td>1.0</td>\n",
       "      <td>1.0</td>\n",
       "      <td>0.0</td>\n",
       "      <td>0.0</td>\n",
       "      <td>2</td>\n",
       "    </tr>\n",
       "    <tr>\n",
       "      <td>2020-02-21 13:29:40.818622828</td>\n",
       "      <td>0.15</td>\n",
       "      <td>0.145707</td>\n",
       "      <td>0.006181</td>\n",
       "      <td>1.0</td>\n",
       "      <td>1.0</td>\n",
       "      <td>0.0</td>\n",
       "      <td>0.0</td>\n",
       "      <td>2</td>\n",
       "    </tr>\n",
       "    <tr>\n",
       "      <td>2020-02-21 13:29:40.868592262</td>\n",
       "      <td>0.15</td>\n",
       "      <td>0.146418</td>\n",
       "      <td>0.000000</td>\n",
       "      <td>1.0</td>\n",
       "      <td>1.0</td>\n",
       "      <td>0.0</td>\n",
       "      <td>0.0</td>\n",
       "      <td>2</td>\n",
       "    </tr>\n",
       "    <tr>\n",
       "      <td>2020-02-21 13:29:40.918623686</td>\n",
       "      <td>0.15</td>\n",
       "      <td>0.146418</td>\n",
       "      <td>0.012361</td>\n",
       "      <td>1.0</td>\n",
       "      <td>1.0</td>\n",
       "      <td>0.0</td>\n",
       "      <td>0.0</td>\n",
       "      <td>2</td>\n",
       "    </tr>\n",
       "    <tr>\n",
       "      <td>2020-02-21 13:29:40.968590736</td>\n",
       "      <td>0.15</td>\n",
       "      <td>0.145707</td>\n",
       "      <td>-0.006181</td>\n",
       "      <td>1.0</td>\n",
       "      <td>2.0</td>\n",
       "      <td>0.0</td>\n",
       "      <td>0.0</td>\n",
       "      <td>2</td>\n",
       "    </tr>\n",
       "  </tbody>\n",
       "</table>\n",
       "<p>193 rows × 8 columns</p>\n",
       "</div>"
      ],
      "text/plain": [
       "                               command_vel  actual_vel  angular_vel  \\\n",
       "date                                                                  \n",
       "2020-02-21 13:29:31.368589401         0.15    0.000000     0.000000   \n",
       "2020-02-21 13:29:31.418601274         0.15    0.000000     0.000000   \n",
       "2020-02-21 13:29:31.468591928         0.15    0.000000     0.000000   \n",
       "2020-02-21 13:29:31.518634080         0.15    0.014926    -0.009271   \n",
       "2020-02-21 13:29:31.568592072         0.15    0.060415    -0.018542   \n",
       "...                                    ...         ...          ...   \n",
       "2020-02-21 13:29:40.768592119         0.15    0.146418     0.000000   \n",
       "2020-02-21 13:29:40.818622828         0.15    0.145707     0.006181   \n",
       "2020-02-21 13:29:40.868592262         0.15    0.146418     0.000000   \n",
       "2020-02-21 13:29:40.918623686         0.15    0.146418     0.012361   \n",
       "2020-02-21 13:29:40.968590736         0.15    0.145707    -0.006181   \n",
       "\n",
       "                               Right current  Left current  Bumper  Wheeldrop  \\\n",
       "date                                                                            \n",
       "2020-02-21 13:29:31.368589401            0.0           0.0     0.0        0.0   \n",
       "2020-02-21 13:29:31.418601274            0.0           0.0     0.0        0.0   \n",
       "2020-02-21 13:29:31.468591928            0.0           0.0     0.0        0.0   \n",
       "2020-02-21 13:29:31.518634080            2.0           1.0     0.0        0.0   \n",
       "2020-02-21 13:29:31.568592072            1.0           2.0     0.0        0.0   \n",
       "...                                      ...           ...     ...        ...   \n",
       "2020-02-21 13:29:40.768592119            1.0           1.0     0.0        0.0   \n",
       "2020-02-21 13:29:40.818622828            1.0           1.0     0.0        0.0   \n",
       "2020-02-21 13:29:40.868592262            1.0           1.0     0.0        0.0   \n",
       "2020-02-21 13:29:40.918623686            1.0           1.0     0.0        0.0   \n",
       "2020-02-21 13:29:40.968590736            1.0           2.0     0.0        0.0   \n",
       "\n",
       "                               Label  \n",
       "date                                  \n",
       "2020-02-21 13:29:31.368589401      2  \n",
       "2020-02-21 13:29:31.418601274      2  \n",
       "2020-02-21 13:29:31.468591928      2  \n",
       "2020-02-21 13:29:31.518634080      2  \n",
       "2020-02-21 13:29:31.568592072      2  \n",
       "...                              ...  \n",
       "2020-02-21 13:29:40.768592119      2  \n",
       "2020-02-21 13:29:40.818622828      2  \n",
       "2020-02-21 13:29:40.868592262      2  \n",
       "2020-02-21 13:29:40.918623686      2  \n",
       "2020-02-21 13:29:40.968590736      2  \n",
       "\n",
       "[193 rows x 8 columns]"
      ]
     },
     "execution_count": 10,
     "metadata": {},
     "output_type": "execute_result"
    }
   ],
   "source": [
    "#samples=min(resampled_IMU.index.shape,resampled_cmd.index.shape,resampled_act.index.shape,resampled_current.index.shape)[0]\n",
    "#samples\n",
    "new"
   ]
  },
  {
   "cell_type": "markdown",
   "metadata": {},
   "source": [
    "### Saving to excel"
   ]
  },
  {
   "cell_type": "code",
   "execution_count": 11,
   "metadata": {},
   "outputs": [],
   "source": [
    "writer = pd.ExcelWriter(writer, engine= 'xlsxwriter')"
   ]
  },
  {
   "cell_type": "code",
   "execution_count": 12,
   "metadata": {},
   "outputs": [],
   "source": [
    "new.to_excel(writer)\n",
    "\n",
    "\n",
    "writer.save()"
   ]
  },
  {
   "cell_type": "code",
   "execution_count": null,
   "metadata": {},
   "outputs": [],
   "source": []
  },
  {
   "cell_type": "markdown",
   "metadata": {},
   "source": [
    "# Plotting"
   ]
  },
  {
   "cell_type": "code",
   "execution_count": null,
   "metadata": {},
   "outputs": [],
   "source": []
  },
  {
   "cell_type": "code",
   "execution_count": null,
   "metadata": {},
   "outputs": [],
   "source": []
  },
  {
   "cell_type": "code",
   "execution_count": 13,
   "metadata": {},
   "outputs": [],
   "source": [
    "time = new.index\n",
    "\n",
    "\n",
    "#command velocity\n",
    "x_cmd = new[\"command_vel\"]\n",
    "\n",
    "#actual velocity\n",
    "x_actual = new[\"actual_vel\"]\n",
    "z_actual = new[\"angular_vel\"]\n",
    "\n",
    "\n",
    "#current\n",
    "right_current = new[\"Right current\"]\n",
    "left_current = new[\"Left current\"]\n",
    "bumper = new[\"Bumper\"]\n",
    "Wheeldrop = new[\"Wheeldrop\"]\n"
   ]
  },
  {
   "cell_type": "code",
   "execution_count": 14,
   "metadata": {},
   "outputs": [
    {
     "name": "stderr",
     "output_type": "stream",
     "text": [
      "/home/roscon/anaconda3/lib/python3.7/site-packages/pandas/plotting/_matplotlib/converter.py:103: FutureWarning: Using an implicitly registered datetime converter for a matplotlib plotting method. The converter was registered by pandas on import. Future versions of pandas will require you to explicitly register matplotlib converters.\n",
      "\n",
      "To register the converters:\n",
      "\t>>> from pandas.plotting import register_matplotlib_converters\n",
      "\t>>> register_matplotlib_converters()\n",
      "  warnings.warn(msg, FutureWarning)\n"
     ]
    },
    {
     "data": {
      "image/png": "[encoded data removed]",
      "text/plain": [
       "<Figure size 432x288 with 2 Axes>"
      ]
     },
     "metadata": {
      "needs_background": "light"
     },
     "output_type": "display_data"
    }
   ],
   "source": [
    "fig, ax1 = plt.subplots()\n",
    "\n",
    "color = 'tab:red'\n",
    "\n",
    "ax1.set_xlabel('Time')\n",
    "ax1.set_ylabel('right current')\n",
    "ax1.plot(time, right_current, 'C1', label= 'C1')\n",
    "ax1.plot(time, left_current)\n",
    "plt.legend([\"Right current\",\"Left current\"])\n",
    "\n",
    "color= 'tab:violet'\n",
    "ax2 = ax1.twinx()\n",
    "ax2.set_ylabel('Actual vel')\n",
    "ax2.plot(time, z_actual,  'C2', label= 'C2')\n",
    "\n",
    "plt.legend([\"Actual vel\"])\n",
    "\n",
    "\n",
    "fig.tight_layout()\n",
    "plt.title(\"Right Bump\")\n",
    "\n",
    "plt.show()\n",
    "\n",
    "\n",
    "\n"
   ]
  },
  {
   "cell_type": "code",
   "execution_count": 15,
   "metadata": {},
   "outputs": [
    {
     "data": {
      "text/plain": [
       "[<matplotlib.lines.Line2D at 0x7fa498f1fe50>]"
      ]
     },
     "execution_count": 15,
     "metadata": {},
     "output_type": "execute_result"
    },
    {
     "data": {
      "image/png": "[encoded data removed]",
      "text/plain": [
       "<Figure size 432x288 with 1 Axes>"
      ]
     },
     "metadata": {
      "needs_background": "light"
     },
     "output_type": "display_data"
    }
   ],
   "source": [
    "plt.plot(time,bumper)\n",
    "plt.plot(time,Wheeldrop)"
   ]
  }
 ],
 "metadata": {
  "kernelspec": {
   "display_name": "Python 3",
   "language": "python",
   "name": "python3"
  },
  "language_info": {
   "codemirror_mode": {
    "name": "ipython",
    "version": 3
   },
   "file_extension": ".py",
   "mimetype": "text/x-python",
   "name": "python",
   "nbconvert_exporter": "python",
   "pygments_lexer": "ipython3",
   "version": "3.7.4"
  }
 },
 "nbformat": 4,
 "nbformat_minor": 2
}
